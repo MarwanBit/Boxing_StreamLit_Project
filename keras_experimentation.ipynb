{
 "cells": [
  {
   "cell_type": "code",
   "execution_count": 15,
   "metadata": {},
   "outputs": [
    {
     "name": "stdout",
     "output_type": "stream",
     "text": [
      "Collecting kagglehub\n",
      "  Downloading kagglehub-0.2.2-py3-none-any.whl (32 kB)\n",
      "Requirement already satisfied: requests in c:\\users\\marwa\\anaconda3\\lib\\site-packages (from kagglehub) (2.28.1)\n",
      "Requirement already satisfied: tqdm in c:\\users\\marwa\\anaconda3\\lib\\site-packages (from kagglehub) (4.64.1)\n",
      "Requirement already satisfied: certifi>=2017.4.17 in c:\\users\\marwa\\anaconda3\\lib\\site-packages (from requests->kagglehub) (2022.9.14)\n",
      "Requirement already satisfied: urllib3<1.27,>=1.21.1 in c:\\users\\marwa\\anaconda3\\lib\\site-packages (from requests->kagglehub) (1.26.11)\n",
      "Requirement already satisfied: charset-normalizer<3,>=2 in c:\\users\\marwa\\anaconda3\\lib\\site-packages (from requests->kagglehub) (2.0.4)\n",
      "Requirement already satisfied: idna<4,>=2.5 in c:\\users\\marwa\\anaconda3\\lib\\site-packages (from requests->kagglehub) (3.3)\n",
      "Requirement already satisfied: colorama in c:\\users\\marwa\\anaconda3\\lib\\site-packages (from tqdm->kagglehub) (0.4.5)\n",
      "Installing collected packages: kagglehub\n",
      "Successfully installed kagglehub-0.2.2\n"
     ]
    }
   ],
   "source": [
    "!pip install kagglehub\n",
    "import tensorflow as tf \n",
    "import tensorflow_hub as hub \n",
    "from tensorflow_docs.vis import embed\n",
    "import keras\n",
    "import kagglehub\n"
   ]
  },
  {
   "cell_type": "code",
   "execution_count": 25,
   "metadata": {},
   "outputs": [],
   "source": [
    "module = 0\n",
    "input_size = 0\n",
    "model_name = \"movenet_lightning\"\n",
    "module = hub.load(\"https://tfhub.dev/google/movenet/singlepose/lightning/4\")\n",
    "input_size = 192\n",
    "\n",
    "def movenet(input_image):\n",
    "        \"\"\"Runs detection on an input image.\n",
    "\n",
    "        Args:\n",
    "          input_image: A [1, height, width, 3] tensor represents the input image\n",
    "            pixels. Note that the height/width should already be resized and match the\n",
    "            expected input resolution of the model before passing into this function.\n",
    "\n",
    "        Returns:\n",
    "          A [1, 1, 17, 3] float numpy array representing the predicted keypoint\n",
    "          coordinates and scores.\n",
    "        \"\"\"\n",
    "        model = module.signatures[\"serving_default\"]\n",
    "\n",
    "        # SavedModel format expects tensor type of int32.\n",
    "        input_image = tf.cast(input_image, dtype=tf.int32)\n",
    "        # Run model inference.\n",
    "        outputs = model(input_image)\n",
    "        # Output is a [1, 1, 17, 3] tensor.\n",
    "        keypoint_with_scores = outputs[\"output_0\"].numpy()\n",
    "        return keypoint_with_scores"
   ]
  },
  {
   "cell_type": "code",
   "execution_count": 26,
   "metadata": {},
   "outputs": [
    {
     "name": "stdout",
     "output_type": "stream",
     "text": [
      "INFO:tensorflow:Assets written to: model.pynb\\assets\n"
     ]
    },
    {
     "name": "stderr",
     "output_type": "stream",
     "text": [
      "INFO:tensorflow:Assets written to: model.pynb\\assets\n"
     ]
    }
   ],
   "source": [
    "#Let's load this file \n",
    "# Download latest version\n",
    "\n",
    "tf.saved_model.save(module, \"model.pynb\")\n",
    "\n",
    "# path = kagglehub.model_download(\"google/movenet/tensorFlow2/multipose-lightning\")\n",
    "\n",
    "# print(\"Path to model files:\", path)\n",
    "# tf.saved_model.load(path)\n",
    "#"
   ]
  },
  {
   "cell_type": "code",
   "execution_count": 27,
   "metadata": {},
   "outputs": [],
   "source": [
    "model = tf.saved_model.load(\"model.pynb\")"
   ]
  },
  {
   "cell_type": "code",
   "execution_count": null,
   "metadata": {},
   "outputs": [],
   "source": []
  }
 ],
 "metadata": {
  "kernelspec": {
   "display_name": "base",
   "language": "python",
   "name": "python3"
  },
  "language_info": {
   "codemirror_mode": {
    "name": "ipython",
    "version": 3
   },
   "file_extension": ".py",
   "mimetype": "text/x-python",
   "name": "python",
   "nbconvert_exporter": "python",
   "pygments_lexer": "ipython3",
   "version": "3.9.13"
  }
 },
 "nbformat": 4,
 "nbformat_minor": 2
}
